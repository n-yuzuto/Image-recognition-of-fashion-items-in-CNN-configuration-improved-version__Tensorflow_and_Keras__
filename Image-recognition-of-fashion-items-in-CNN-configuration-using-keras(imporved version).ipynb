{
 "cells": [
  {
   "cell_type": "code",
   "execution_count": 1,
   "id": "b3bc2677",
   "metadata": {},
   "outputs": [],
   "source": [
    "# 環境の問題：　 libiomp5.dylib というファイルがダブってる。その対応\n",
    "import os\n",
    "os.environ['KMP_DUPLICATE_LIB_OK']='TRUE'"
   ]
  },
  {
   "cell_type": "markdown",
   "id": "ffcbc7bc",
   "metadata": {},
   "source": [
    "## データのダウンロード"
   ]
  },
  {
   "cell_type": "code",
   "execution_count": 2,
   "id": "d048a94f",
   "metadata": {},
   "outputs": [],
   "source": [
    "from tensorflow.keras.datasets import fashion_mnist\n",
    "(x_train, y_train), (x_test, y_test) = fashion_mnist.load_data()"
   ]
  },
  {
   "cell_type": "markdown",
   "id": "c892d504",
   "metadata": {},
   "source": [
    "## 前処理"
   ]
  },
  {
   "cell_type": "code",
   "execution_count": 3,
   "id": "5bbabd19",
   "metadata": {},
   "outputs": [],
   "source": [
    "x_train = x_train.reshape(-1, 28, 28, 1)\n",
    "x_train = x_train.astype(\"float32\")\n",
    "x_train /= 255\n",
    "\n",
    "x_test = x_test.reshape(-1, 28, 28, 1)\n",
    "x_test = x_test.astype(\"float32\")\n",
    "x_test /= 255"
   ]
  },
  {
   "cell_type": "markdown",
   "id": "d60432e1",
   "metadata": {},
   "source": [
    "## モデルの構築"
   ]
  },
  {
   "cell_type": "code",
   "execution_count": 4,
   "id": "0326e2dc",
   "metadata": {},
   "outputs": [
    {
     "name": "stdout",
     "output_type": "stream",
     "text": [
      "Model: \"sequential\"\n",
      "_________________________________________________________________\n",
      "Layer (type)                 Output Shape              Param #   \n",
      "=================================================================\n",
      "conv2d (Conv2D)              (None, 28, 28, 32)        320       \n",
      "_________________________________________________________________\n",
      "conv2d_1 (Conv2D)            (None, 28, 28, 64)        18496     \n",
      "_________________________________________________________________\n",
      "max_pooling2d (MaxPooling2D) (None, 14, 14, 64)        0         \n",
      "_________________________________________________________________\n",
      "dropout (Dropout)            (None, 14, 14, 64)        0         \n",
      "_________________________________________________________________\n",
      "conv2d_2 (Conv2D)            (None, 14, 14, 32)        18464     \n",
      "_________________________________________________________________\n",
      "max_pooling2d_1 (MaxPooling2 (None, 7, 7, 32)          0         \n",
      "_________________________________________________________________\n",
      "dropout_1 (Dropout)          (None, 7, 7, 32)          0         \n",
      "_________________________________________________________________\n",
      "flatten (Flatten)            (None, 1568)              0         \n",
      "_________________________________________________________________\n",
      "dense (Dense)                (None, 10)                15690     \n",
      "=================================================================\n",
      "Total params: 52,970\n",
      "Trainable params: 52,970\n",
      "Non-trainable params: 0\n",
      "_________________________________________________________________\n"
     ]
    }
   ],
   "source": [
    "from tensorflow.keras.models import Sequential\n",
    "from tensorflow.keras.layers import Dense, Conv2D, Dropout, Flatten, MaxPooling2D\n",
    "from tensorflow.keras.optimizers import SGD\n",
    "\n",
    "model = Sequential()\n",
    "# 層1\n",
    "model.add(\n",
    "        Conv2D(filters=32,\n",
    "                       kernel_size=(3,3),\n",
    "                      padding=\"same\",\n",
    "                      input_shape=(28, 28,1),\n",
    "                      activation=\"relu\"\n",
    "                      ))\n",
    "# 層2\n",
    "model.add(\n",
    "        Conv2D(filters=64,\n",
    "                       kernel_size=(3,3),\n",
    "                      padding=\"same\",\n",
    "                      input_shape=(28, 28,1),\n",
    "                      activation=\"relu\"\n",
    "                      ))\n",
    "# プーリング層\n",
    "model.add(\n",
    "        MaxPooling2D(pool_size=(2,2)))\n",
    "# ドロップアウト\n",
    "model.add(Dropout(0.5))\n",
    "# 層3\n",
    "model.add(\n",
    "        Conv2D(filters=32,\n",
    "                       kernel_size=(3,3),\n",
    "                      padding=\"same\",\n",
    "                      input_shape=(28, 28,1),\n",
    "                      activation=\"relu\"\n",
    "                      ))\n",
    "# プーリング層\n",
    "model.add(\n",
    "        MaxPooling2D(pool_size=(2,2)))\n",
    "\n",
    "model.add(Dropout(0.5))\n",
    "model.add(Flatten())\n",
    "# 出力層\n",
    "model.add(Dense(10,\n",
    "                               activation=\"softmax\"\n",
    "                               ))\n",
    "model.compile(\n",
    "        loss=\"sparse_categorical_crossentropy\",\n",
    "        optimizer=SGD(lr=0.1),\n",
    "        metrics=[\"accuracy\"])\n",
    "\n",
    "model.summary()"
   ]
  },
  {
   "cell_type": "markdown",
   "id": "403e3caf",
   "metadata": {},
   "source": [
    "## 学習の実行"
   ]
  },
  {
   "cell_type": "code",
   "execution_count": 5,
   "id": "cd2db260",
   "metadata": {
    "scrolled": true
   },
   "outputs": [
    {
     "name": "stdout",
     "output_type": "stream",
     "text": [
      "Train on 48000 samples, validate on 12000 samples\n",
      "Epoch 1/30\n",
      "48000/48000 [==============================] - 319s 7ms/sample - loss: 0.7298 - accuracy: 0.7383 - val_loss: 0.4435 - val_accuracy: 0.8479\n",
      "Epoch 2/30\n",
      "48000/48000 [==============================] - 335s 7ms/sample - loss: 0.4665 - accuracy: 0.8281 - val_loss: 0.3745 - val_accuracy: 0.8675\n",
      "Epoch 3/30\n",
      "48000/48000 [==============================] - 334s 7ms/sample - loss: 0.4126 - accuracy: 0.8522 - val_loss: 0.3321 - val_accuracy: 0.8817\n",
      "Epoch 4/30\n",
      "48000/48000 [==============================] - 334s 7ms/sample - loss: 0.3770 - accuracy: 0.8640 - val_loss: 0.3119 - val_accuracy: 0.8878\n",
      "Epoch 5/30\n",
      "48000/48000 [==============================] - 336s 7ms/sample - loss: 0.3528 - accuracy: 0.8726 - val_loss: 0.2967 - val_accuracy: 0.8924\n",
      "Epoch 6/30\n",
      "48000/48000 [==============================] - 337s 7ms/sample - loss: 0.3381 - accuracy: 0.8770 - val_loss: 0.2904 - val_accuracy: 0.8976\n",
      "Epoch 7/30\n",
      "48000/48000 [==============================] - 371s 8ms/sample - loss: 0.3259 - accuracy: 0.8834 - val_loss: 0.2740 - val_accuracy: 0.9058\n",
      "Epoch 8/30\n",
      "48000/48000 [==============================] - 350s 7ms/sample - loss: 0.3166 - accuracy: 0.8845 - val_loss: 0.2743 - val_accuracy: 0.9069\n",
      "Epoch 9/30\n",
      "48000/48000 [==============================] - 359s 7ms/sample - loss: 0.3075 - accuracy: 0.8901 - val_loss: 0.2823 - val_accuracy: 0.8969\n",
      "Epoch 10/30\n",
      "48000/48000 [==============================] - 364s 8ms/sample - loss: 0.3046 - accuracy: 0.8908 - val_loss: 0.2621 - val_accuracy: 0.9098\n",
      "Epoch 11/30\n",
      "48000/48000 [==============================] - 365s 8ms/sample - loss: 0.2947 - accuracy: 0.8942 - val_loss: 0.2661 - val_accuracy: 0.9103\n",
      "Epoch 12/30\n",
      "48000/48000 [==============================] - 358s 7ms/sample - loss: 0.2905 - accuracy: 0.8952 - val_loss: 0.2553 - val_accuracy: 0.9107\n",
      "Epoch 13/30\n",
      "48000/48000 [==============================] - 355s 7ms/sample - loss: 0.2845 - accuracy: 0.8974 - val_loss: 0.2588 - val_accuracy: 0.9096\n",
      "Epoch 14/30\n",
      "48000/48000 [==============================] - 353s 7ms/sample - loss: 0.2819 - accuracy: 0.8980 - val_loss: 0.2449 - val_accuracy: 0.9139\n",
      "Epoch 15/30\n",
      "48000/48000 [==============================] - 356s 7ms/sample - loss: 0.2781 - accuracy: 0.8993 - val_loss: 0.2364 - val_accuracy: 0.9179\n",
      "Epoch 16/30\n",
      "48000/48000 [==============================] - 346s 7ms/sample - loss: 0.2743 - accuracy: 0.9009 - val_loss: 0.2376 - val_accuracy: 0.9174\n",
      "Epoch 17/30\n",
      "48000/48000 [==============================] - 348s 7ms/sample - loss: 0.2757 - accuracy: 0.9011 - val_loss: 0.2367 - val_accuracy: 0.9169\n",
      "Epoch 18/30\n",
      "48000/48000 [==============================] - 342s 7ms/sample - loss: 0.2731 - accuracy: 0.8995 - val_loss: 0.2356 - val_accuracy: 0.9219\n",
      "Epoch 19/30\n",
      "48000/48000 [==============================] - 346s 7ms/sample - loss: 0.2693 - accuracy: 0.9024 - val_loss: 0.2405 - val_accuracy: 0.9165\n",
      "Epoch 20/30\n",
      "48000/48000 [==============================] - 355s 7ms/sample - loss: 0.2668 - accuracy: 0.9022 - val_loss: 0.2375 - val_accuracy: 0.9151\n",
      "Epoch 21/30\n",
      "48000/48000 [==============================] - 362s 8ms/sample - loss: 0.2635 - accuracy: 0.9039 - val_loss: 0.2361 - val_accuracy: 0.9179\n",
      "Epoch 22/30\n",
      "48000/48000 [==============================] - 365s 8ms/sample - loss: 0.2618 - accuracy: 0.9058 - val_loss: 0.2340 - val_accuracy: 0.9168\n",
      "Epoch 23/30\n",
      "48000/48000 [==============================] - 363s 8ms/sample - loss: 0.2599 - accuracy: 0.9056 - val_loss: 0.2227 - val_accuracy: 0.9230\n",
      "Epoch 24/30\n",
      "48000/48000 [==============================] - 356s 7ms/sample - loss: 0.2596 - accuracy: 0.9060 - val_loss: 0.2337 - val_accuracy: 0.9170\n",
      "Epoch 25/30\n",
      "48000/48000 [==============================] - 361s 8ms/sample - loss: 0.2555 - accuracy: 0.9072 - val_loss: 0.2212 - val_accuracy: 0.9227\n",
      "Epoch 26/30\n",
      "48000/48000 [==============================] - 360s 8ms/sample - loss: 0.2536 - accuracy: 0.9070 - val_loss: 0.2252 - val_accuracy: 0.9236\n",
      "Epoch 27/30\n",
      "48000/48000 [==============================] - 356s 7ms/sample - loss: 0.2516 - accuracy: 0.9090 - val_loss: 0.2205 - val_accuracy: 0.9240\n",
      "Epoch 28/30\n",
      "48000/48000 [==============================] - 340s 7ms/sample - loss: 0.2500 - accuracy: 0.9098 - val_loss: 0.2291 - val_accuracy: 0.9225\n",
      "Epoch 29/30\n",
      "48000/48000 [==============================] - 338s 7ms/sample - loss: 0.2471 - accuracy: 0.9100 - val_loss: 0.2131 - val_accuracy: 0.9244\n",
      "Epoch 30/30\n",
      "48000/48000 [==============================] - 344s 7ms/sample - loss: 0.2485 - accuracy: 0.9090 - val_loss: 0.2348 - val_accuracy: 0.9175\n",
      "Test loss: 0.24881922222375868\n",
      "Test accuracy: 0.9099\n",
      "CPU times: user 8h 2min 57s, sys: 11h 4min 16s, total: 19h 7min 13s\n",
      "Wall time: 2h 55min 31s\n"
     ]
    }
   ],
   "source": [
    "%%time\n",
    "\n",
    "from tensorflow.keras.callbacks import EarlyStopping\n",
    "\n",
    "early_stopping = EarlyStopping(\n",
    "        monitor=\"val_loss\",\n",
    "        patience=5,\n",
    "        verbose=1\n",
    ")\n",
    "\n",
    "training_epochs = 30\n",
    "batch_size = 64\n",
    "\n",
    "history = model.fit(\n",
    "        x_train,\n",
    "        y_train,\n",
    "        epochs=training_epochs,\n",
    "        batch_size=batch_size,\n",
    "        verbose=1,\n",
    "        validation_split=0.2,\n",
    "        shuffle=True,\n",
    "        callbacks=[early_stopping]\n",
    "        )\n",
    "\n",
    "score = model.evaluate(x_test, y_test, verbose=0)\n",
    "\n",
    "print(\"Test loss:\", score[0])\n",
    "print(\"Test accuracy:\", score[1])"
   ]
  },
  {
   "cell_type": "markdown",
   "id": "48a2e04d",
   "metadata": {},
   "source": [
    "## 損失と精度の推移をグラフに"
   ]
  },
  {
   "cell_type": "code",
   "execution_count": 6,
   "id": "c540039d",
   "metadata": {},
   "outputs": [
    {
     "data": {
      "image/png": "[encoded data removed]",
      "text/plain": [
       "<Figure size 1080x432 with 2 Axes>"
      ]
     },
     "metadata": {
      "needs_background": "light"
     },
     "output_type": "display_data"
    }
   ],
   "source": [
    "%matplotlib inline\n",
    "import matplotlib.pyplot as plt\n",
    "\n",
    "plt.figure(figsize=(15, 6))\n",
    "plt.subplots_adjust(wspace=0.2)\n",
    "\n",
    "plt.subplot(1,2,1)\n",
    "\n",
    "plt.plot(history.history[\"loss\"],\n",
    "                label=\"training\",\n",
    "                color=\"black\")\n",
    "\n",
    "plt.plot(history.history[\"val_loss\"],\n",
    "                label=\"validation\",\n",
    "                color=\"red\")\n",
    "plt.ylim(0,1)\n",
    "plt.legend()\n",
    "plt.grid()\n",
    "plt.xlabel(\"epoch\")\n",
    "plt.ylabel(\"loss\")\n",
    "\n",
    "\n",
    "plt.subplot(1,2,2)\n",
    "plt.plot(history.history[\"accuracy\"],\n",
    "                label=\"training\",\n",
    "                color=\"black\")\n",
    "\n",
    "plt.plot(history.history[\"val_accuracy\"],\n",
    "                label=\"validation\",\n",
    "                color=\"red\")\n",
    "plt.ylim(0.5, 1)\n",
    "plt.legend()\n",
    "plt.grid()\n",
    "plt.xlabel(\"epoch\")\n",
    "plt.ylabel(\"acc\")\n",
    "plt.show()\n"
   ]
  },
  {
   "cell_type": "code",
   "execution_count": null,
   "id": "8fad726d",
   "metadata": {},
   "outputs": [],
   "source": [
    "from IPython.display import SVG\n",
    "from keras.utils import model_to_dot\n",
    "\n",
    "SVG(model_to_dot(model).create(prog='dot', format='svg'))"
   ]
  }
 ],
 "metadata": {
  "kernelspec": {
   "display_name": "Python 3",
   "language": "python",
   "name": "python3"
  },
  "language_info": {
   "codemirror_mode": {
    "name": "ipython",
    "version": 3
   },
   "file_extension": ".py",
   "mimetype": "text/x-python",
   "name": "python",
   "nbconvert_exporter": "python",
   "pygments_lexer": "ipython3",
   "version": "3.7.10"
  }
 },
 "nbformat": 4,
 "nbformat_minor": 5
}
